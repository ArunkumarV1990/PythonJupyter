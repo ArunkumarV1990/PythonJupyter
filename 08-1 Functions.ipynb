{
 "cells": [
  {
   "cell_type": "markdown",
   "metadata": {},
   "source": [
    "# Global and local "
   ]
  },
  {
   "cell_type": "code",
   "execution_count": 1,
   "metadata": {},
   "outputs": [
    {
     "name": "stdout",
     "output_type": "stream",
     "text": [
      "x inside : global\n",
      "x outside: global\n"
     ]
    }
   ],
   "source": [
    "x = \"global\"\n",
    "\n",
    "def foo():\n",
    "    print(\"x inside :\", x)\n",
    "\n",
    "foo()\n",
    "print(\"x outside:\", x)"
   ]
  },
  {
   "cell_type": "code",
   "execution_count": 2,
   "metadata": {},
   "outputs": [
    {
     "name": "stdout",
     "output_type": "stream",
     "text": [
      "globalglobal\n"
     ]
    }
   ],
   "source": [
    "x = \"global\"\n",
    "\n",
    "def foo():\n",
    "    x=1\n",
    "    x = x * 2\n",
    "    print(x*2)\n",
    "foo()\n",
    "print(x)"
   ]
  },
  {
   "cell_type": "code",
   "execution_count": 4,
   "metadata": {},
   "outputs": [
    {
     "ename": "NameError",
     "evalue": "name 'y' is not defined",
     "output_type": "error",
     "traceback": [
      "\u001b[1;31m---------------------------------------------------------------------------\u001b[0m",
      "\u001b[1;31mNameError\u001b[0m                                 Traceback (most recent call last)",
      "\u001b[1;32m<ipython-input-4-92f817b0ade3>\u001b[0m in \u001b[0;36m<module>\u001b[1;34m()\u001b[0m\n\u001b[0;32m      3\u001b[0m \u001b[1;33m\u001b[0m\u001b[0m\n\u001b[0;32m      4\u001b[0m \u001b[0mfoo\u001b[0m\u001b[1;33m(\u001b[0m\u001b[1;33m)\u001b[0m\u001b[1;33m\u001b[0m\u001b[0m\n\u001b[1;32m----> 5\u001b[1;33m \u001b[0mprint\u001b[0m\u001b[1;33m(\u001b[0m\u001b[0my\u001b[0m\u001b[1;33m)\u001b[0m\u001b[1;33m\u001b[0m\u001b[0m\n\u001b[0m",
      "\u001b[1;31mNameError\u001b[0m: name 'y' is not defined"
     ]
    }
   ],
   "source": [
    "def foo():\n",
    "    y = \"local\"\n",
    "\n",
    "foo()\n",
    "print(y)"
   ]
  },
  {
   "cell_type": "code",
   "execution_count": 5,
   "metadata": {},
   "outputs": [
    {
     "name": "stdout",
     "output_type": "stream",
     "text": [
      "local\n"
     ]
    }
   ],
   "source": [
    "def foo():\n",
    "    y = \"local\"\n",
    "    print(y)\n",
    "\n",
    "foo()"
   ]
  },
  {
   "cell_type": "code",
   "execution_count": 5,
   "metadata": {},
   "outputs": [
    {
     "name": "stdout",
     "output_type": "stream",
     "text": [
      "globalglobal\n",
      "local\n",
      "globalglobal\n"
     ]
    }
   ],
   "source": [
    "x = \"global\"\n",
    "\n",
    "def foo():\n",
    "    global x\n",
    "    y = \"local\"\n",
    "    x = x * 2\n",
    "    print(x)\n",
    "    print(y)\n",
    "    \n",
    "foo()\n",
    "print(x)"
   ]
  },
  {
   "cell_type": "code",
   "execution_count": 6,
   "metadata": {},
   "outputs": [
    {
     "name": "stdout",
     "output_type": "stream",
     "text": [
      "local x: 10\n",
      "global x: 10\n"
     ]
    }
   ],
   "source": [
    "x = 5\n",
    "\n",
    "def foo():\n",
    "    global x\n",
    "    x = 10\n",
    "    print(\"local x:\", x)\n",
    "\n",
    "foo()\n",
    "print(\"global x:\", x)"
   ]
  },
  {
   "cell_type": "raw",
   "metadata": {},
   "source": [
    "Nonlocal Variables\n",
    "Nonlocal variable are used in nested function whose local scope is not defined. This means, the variable can be neither in the local nor the global scope.\n",
    "\n",
    "\n",
    "We use nonlocal keyword to create nonlocal variable."
   ]
  },
  {
   "cell_type": "code",
   "execution_count": 5,
   "metadata": {},
   "outputs": [
    {
     "name": "stdout",
     "output_type": "stream",
     "text": [
      "local\n",
      "inner: nonlocal\n",
      "outer: nonlocal\n"
     ]
    }
   ],
   "source": [
    "def outer():\n",
    "    x = \"local\"\n",
    "    \n",
    "    def inner():\n",
    "        nonlocal x\n",
    "        print(x)\n",
    "        x = \"nonlocal\"\n",
    "        print(\"inner:\", x)\n",
    "    \n",
    "    inner()\n",
    "    print(\"outer:\", x)\n",
    "\n",
    "outer()"
   ]
  },
  {
   "cell_type": "raw",
   "metadata": {},
   "source": [
    "Global Keyword"
   ]
  },
  {
   "cell_type": "code",
   "execution_count": 9,
   "metadata": {},
   "outputs": [
    {
     "name": "stdout",
     "output_type": "stream",
     "text": [
      "1\n"
     ]
    }
   ],
   "source": [
    "c = 1 # global variable\n",
    "\n",
    "def add():\n",
    "    print(c)\n",
    "\n",
    "add()"
   ]
  },
  {
   "cell_type": "code",
   "execution_count": 10,
   "metadata": {},
   "outputs": [
    {
     "ename": "UnboundLocalError",
     "evalue": "local variable 'c' referenced before assignment",
     "output_type": "error",
     "traceback": [
      "\u001b[1;31m---------------------------------------------------------------------------\u001b[0m",
      "\u001b[1;31mUnboundLocalError\u001b[0m                         Traceback (most recent call last)",
      "\u001b[1;32m<ipython-input-10-10710404b9bd>\u001b[0m in \u001b[0;36m<module>\u001b[1;34m()\u001b[0m\n\u001b[0;32m      5\u001b[0m     \u001b[0mprint\u001b[0m\u001b[1;33m(\u001b[0m\u001b[0mc\u001b[0m\u001b[1;33m)\u001b[0m\u001b[1;33m\u001b[0m\u001b[0m\n\u001b[0;32m      6\u001b[0m \u001b[1;33m\u001b[0m\u001b[0m\n\u001b[1;32m----> 7\u001b[1;33m \u001b[0madd\u001b[0m\u001b[1;33m(\u001b[0m\u001b[1;33m)\u001b[0m\u001b[1;33m\u001b[0m\u001b[0m\n\u001b[0m",
      "\u001b[1;32m<ipython-input-10-10710404b9bd>\u001b[0m in \u001b[0;36madd\u001b[1;34m()\u001b[0m\n\u001b[0;32m      2\u001b[0m \u001b[1;33m\u001b[0m\u001b[0m\n\u001b[0;32m      3\u001b[0m \u001b[1;32mdef\u001b[0m \u001b[0madd\u001b[0m\u001b[1;33m(\u001b[0m\u001b[1;33m)\u001b[0m\u001b[1;33m:\u001b[0m\u001b[1;33m\u001b[0m\u001b[0m\n\u001b[1;32m----> 4\u001b[1;33m     \u001b[0mc\u001b[0m \u001b[1;33m=\u001b[0m \u001b[0mc\u001b[0m \u001b[1;33m+\u001b[0m \u001b[1;36m2\u001b[0m \u001b[1;31m# increment c by 2\u001b[0m\u001b[1;33m\u001b[0m\u001b[0m\n\u001b[0m\u001b[0;32m      5\u001b[0m     \u001b[0mprint\u001b[0m\u001b[1;33m(\u001b[0m\u001b[0mc\u001b[0m\u001b[1;33m)\u001b[0m\u001b[1;33m\u001b[0m\u001b[0m\n\u001b[0;32m      6\u001b[0m \u001b[1;33m\u001b[0m\u001b[0m\n",
      "\u001b[1;31mUnboundLocalError\u001b[0m: local variable 'c' referenced before assignment"
     ]
    }
   ],
   "source": [
    "c = 1 # global variable\n",
    "    \n",
    "def add():\n",
    "    c = c + 2 # increment c by 2\n",
    "    print(c)\n",
    "\n",
    "add()"
   ]
  },
  {
   "cell_type": "raw",
   "metadata": {},
   "source": [
    "This is because we can only access the global variable but cannot modify it from inside the function.\n",
    "\n",
    "The solution for this is to use the global keyword."
   ]
  },
  {
   "cell_type": "code",
   "execution_count": null,
   "metadata": {},
   "outputs": [],
   "source": [
    "c = 0 # global variable\n",
    "\n",
    "def add():\n",
    "    global c\n",
    "    c = c + 2 # increment by 2\n",
    "    print(\"Inside add():\", c)\n",
    "\n",
    "add()\n",
    "print(\"In main:\", c)"
   ]
  },
  {
   "cell_type": "code",
   "execution_count": 9,
   "metadata": {},
   "outputs": [
    {
     "name": "stdout",
     "output_type": "stream",
     "text": [
      "in foo 20\n",
      "Before calling bar:  20\n",
      "Calling bar now\n",
      "in bar 25\n",
      "After calling bar:  20\n",
      "x in main :  20\n"
     ]
    }
   ],
   "source": [
    "def foo():\n",
    "    global x \n",
    "    x = 20\n",
    "    print(\"in foo\",x)\n",
    "\n",
    "    def bar():\n",
    "        global x\n",
    "        x = 25\n",
    "        print(\"in bar\",x)\n",
    "    \n",
    "    print(\"Before calling bar: \", x)\n",
    "    print(\"Calling bar now\")\n",
    "    bar()\n",
    "    print(\"After calling bar: \", x)\n",
    "\n",
    "foo()\n",
    "print(\"x in main : \", x)"
   ]
  },
  {
   "cell_type": "code",
   "execution_count": 9,
   "metadata": {},
   "outputs": [
    {
     "name": "stdout",
     "output_type": "stream",
     "text": [
      "a = 30\n",
      "a = 20\n",
      "a = 10\n"
     ]
    }
   ],
   "source": [
    "def outer_function():\n",
    "    a = 20\n",
    "    def inner_function():\n",
    "        a = 30\n",
    "        print('a =',a)\n",
    "\n",
    "    inner_function()\n",
    "    print('a =',a)\n",
    "     \n",
    "a = 10\n",
    "outer_function()\n",
    "print('a =',a)"
   ]
  },
  {
   "cell_type": "code",
   "execution_count": 10,
   "metadata": {},
   "outputs": [
    {
     "name": "stdout",
     "output_type": "stream",
     "text": [
      "inner a = 30\n",
      "outer a = 30\n",
      "main a = 30\n"
     ]
    }
   ],
   "source": [
    "def outer_function():\n",
    "    global a\n",
    "    #hhhhhhhhhhhhhhhhhhhhhhhhhhhhhhhhhhhhhhhhh\n",
    "    a = 20\n",
    "    def inner_function():\n",
    "        global a\n",
    "        a = 30\n",
    "        print('inner a =',a)\n",
    "\n",
    "    inner_function()\n",
    "    print('outer a =',a)\n",
    "     \n",
    "a = 10\n",
    "\n",
    "####################################\n",
    "outer_function()\n",
    "print('main a =',a)"
   ]
  },
  {
   "cell_type": "markdown",
   "metadata": {},
   "source": [
    "# Recursive functions\n"
   ]
  },
  {
   "cell_type": "code",
   "execution_count": 11,
   "metadata": {},
   "outputs": [
    {
     "name": "stdout",
     "output_type": "stream",
     "text": [
      "executing\n",
      "executing\n",
      "executing\n",
      "executing\n",
      "The factorial of 4 is 24\n",
      "This is a recursive function\n",
      "    to find the factorial of an integer\n"
     ]
    }
   ],
   "source": [
    "# An example of a recursive function to\n",
    "# find the factorial of a number\n",
    "\n",
    "def calc_factorial(x):\n",
    "    \"\"\"This is a recursive function\n",
    "    to find the factorial of an integer\"\"\"\n",
    "    print(\"executing\")\n",
    "\n",
    "    if x == 1:\n",
    "        return 1\n",
    "    else:\n",
    "        return (x * calc_factorial(x-1))\n",
    "\n",
    "num = 4\n",
    "print(\"The factorial of\", num, \"is\", calc_factorial(num))\n",
    "print(calc_factorial.__doc__)"
   ]
  },
  {
   "cell_type": "raw",
   "metadata": {},
   "source": [
    "\n",
    "calc_factorial(4)              # 1st call with 4\n",
    "4 * calc_factorial(3)          # 2nd call with 3\n",
    "4 * 3 * calc_factorial(2)      # 3rd call with 2\n",
    "4 * 3 * 2 * calc_factorial(1)  # 4th call with 1\n",
    "4 * 3 * 2 * 1                  # return from 4th call as number=1\n",
    "4 * 3 * 2                      # return from 3rd call\n",
    "4 * 6                          # return from 2nd call\n",
    "24                             # return from 1st call"
   ]
  },
  {
   "cell_type": "code",
   "execution_count": 11,
   "metadata": {},
   "outputs": [
    {
     "name": "stdout",
     "output_type": "stream",
     "text": [
      "Fibonacci sequence:\n",
      "0\n",
      "1\n",
      "1\n",
      "2\n",
      "3\n",
      "5\n",
      "8\n",
      "13\n",
      "21\n",
      "34\n"
     ]
    }
   ],
   "source": [
    "def recur_fibo(n):\n",
    "   \"\"\"Recursive function to\n",
    "   print Fibonacci sequence\"\"\"\n",
    "   if n <= 1:\n",
    "       return n\n",
    "   else:\n",
    "       return(recur_fibo(n-1) + recur_fibo(n-2))\n",
    "\n",
    "# Change this value for a different result\n",
    "nterms = 10\n",
    "\n",
    "# uncomment to take input from the user\n",
    "#nterms = int(input(\"How many terms? \"))\n",
    "\n",
    "# check if the number of terms is valid\n",
    "if nterms <= 0:\n",
    "   print(\"Plese enter a positive integer\")\n",
    "else:\n",
    "   print(\"Fibonacci sequence:\")\n",
    "   for i in range(nterms):\n",
    "        #print(i)\n",
    "        print(recur_fibo(i))"
   ]
  },
  {
   "cell_type": "code",
   "execution_count": 3,
   "metadata": {},
   "outputs": [
    {
     "name": "stdout",
     "output_type": "stream",
     "text": [
      "00-Introduction.ipynb\n",
      "01-How-to-Run-Python-Code.ipynb\n",
      "02-Basic-Python-Syntax.ipynb\n",
      "03-Semantics-Variables.ipynb\n",
      "04-Semantics-Operators.ipynb\n",
      "05-Built-in-Scalar-Types.ipynb\n",
      "06-Built-in-Data-Structures.ipynb\n",
      "07-Control-Flow-Statements.ipynb\n",
      "08-1 Functions.ipynb\n",
      "08-Defining-Functions.ipynb\n",
      "09-Errors-and-Exceptions.ipynb\n",
      "10-Iterators.ipynb\n",
      "11-List-Comprehensions.ipynb\n",
      "12-Generators.ipynb\n",
      "13-Modules-and-Packages.ipynb\n",
      "14-Strings-and-Regular-Expressions.ipynb\n",
      "15-Preview-of-Data-Science-Tools.ipynb\n",
      "17-Figures.ipynb\n",
      "advancedclasses.ipynb\n",
      "authority.pem\n",
      "certificate.pem.crt\n",
      "chatbot .ipynb\n",
      "classesobjects.ipynb\n",
      "download.png\n",
      "engineer.mp3\n",
      "filehandling .ipynb\n",
      "flask req.ipynb\n",
      "flask.ipynb\n",
      "haarcascade_eye.xml\n",
      "haarcascade_frontalface_default.xml\n",
      "images.jpg\n",
      "listcomprehension.ipynb\n",
      "machine learning.ipynb\n",
      "map,reduce,filter.ipynb\n",
      "moviedata.json\n",
      "multithread.ipynb\n",
      "myqr.svg\n",
      "Names.csv\n",
      "networking.ipynb\n",
      "output.csv\n",
      "private.pem.key\n",
      "public.pem.key\n",
      "regularexpresssion.ipynb\n",
      "specialprograms.ipynb\n",
      "TCP_IP_socket_diagram.png\n",
      "thread.png\n",
      "Untitled.ipynb\n",
      "Untitled2.ipynb\n",
      "08-1 Functions-checkpoint.ipynb\n",
      "08-Defining-Functions-checkpoint.ipynb\n",
      "machine learning-checkpoint.ipynb\n",
      "specialprograms-checkpoint.ipynb\n",
      "Untitled2-checkpoint.ipynb\n",
      "flasklocalserver.ipynb\n",
      "flasklocalserver-checkpoint.ipynb\n",
      "style.css\n",
      "editedfirst.html\n",
      "first_app.html\n",
      "hello.html\n",
      "_formhelpers.html\n"
     ]
    }
   ],
   "source": [
    "import os\n",
    "\n",
    "for root, dirs, files in os.walk(\".\"):  \n",
    "    for filename in files:\n",
    "        print(filename)"
   ]
  },
  {
   "cell_type": "code",
   "execution_count": null,
   "metadata": {},
   "outputs": [],
   "source": []
  }
 ],
 "metadata": {
  "kernelspec": {
   "display_name": "Python 3",
   "language": "python",
   "name": "python3"
  },
  "language_info": {
   "codemirror_mode": {
    "name": "ipython",
    "version": 3
   },
   "file_extension": ".py",
   "mimetype": "text/x-python",
   "name": "python",
   "nbconvert_exporter": "python",
   "pygments_lexer": "ipython3",
   "version": "3.6.5"
  }
 },
 "nbformat": 4,
 "nbformat_minor": 2
}
