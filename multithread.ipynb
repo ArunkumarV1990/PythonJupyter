{
 "cells": [
  {
   "cell_type": "code",
   "execution_count": 1,
   "metadata": {},
   "outputs": [
    {
     "data": {
      "text/plain": [
       "'C:\\\\Users\\\\32831\\\\Downloads\\\\python-master'"
      ]
     },
     "execution_count": 1,
     "metadata": {},
     "output_type": "execute_result"
    }
   ],
   "source": [
    "import os \n",
    "os.getcwd()"
   ]
  },
  {
   "cell_type": "markdown",
   "metadata": {},
   "source": [
    "<imag src = \"thread.png\">"
   ]
  },
  {
   "cell_type": "markdown",
   "metadata": {},
   "source": [
    "<img src=\"thread.png\">"
   ]
  },
  {
   "cell_type": "code",
   "execution_count": 4,
   "metadata": {},
   "outputs": [],
   "source": [
    "import json\n",
    "import logging\n",
    "import os\n",
    "from pathlib import Path\n",
    "from urllib.request import urlopen, Request\n",
    "\n",
    "logger = logging.getLogger(__name__)\n",
    "\n",
    "types = {'image/jpeg', 'image/png'}\n",
    "\n",
    "\n",
    "def get_links(client_id):\n",
    "    headers = {'Authorization': 'Client-ID {}'.format(client_id)}\n",
    "    req = Request('https://api.imgur.com/3/gallery/random/random/', headers=headers, method='GET')\n",
    "    with urlopen(req) as resp:\n",
    "        data = json.loads(resp.read().decode('utf-8'))\n",
    "    return [item['link'] for item in data['data'] if 'type' in item and item['type'] in types]\n",
    "\n",
    "\n",
    "def download_link(directory, link):\n",
    "    download_path = directory / os.path.basename(link)\n",
    "    with urlopen(link) as image, download_path.open('wb') as f:\n",
    "        f.write(image.read())\n",
    "    logger.info('Downloaded %s', link)\n",
    "\n",
    "\n",
    "def setup_download_dir():\n",
    "    download_dir = Path('images')\n",
    "    if not download_dir.exists():\n",
    "        download_dir.mkdir()\n",
    "    return download_dir"
   ]
  },
  {
   "cell_type": "code",
   "execution_count": null,
   "metadata": {},
   "outputs": [],
   "source": [
    "import logging #without threading \n",
    "import os\n",
    "from time import time\n",
    "\n",
    "from download import setup_download_dir, get_links, download_link\n",
    "\n",
    "logging.basicConfig(level=logging.INFO, format='%(asctime)s - %(name)s - %(levelname)s - %(message)s')\n",
    "logger = logging.getLogger(__name__)\n",
    "\n",
    "def main():\n",
    "    ts = time()\n",
    "    client_id = os.getenv('IMGUR_CLIENT_ID')\n",
    "    if not client_id:\n",
    "        raise Exception(\"Couldn't find IMGUR_CLIENT_ID environment variable!\")\n",
    "    download_dir = setup_download_dir()\n",
    "    links = get_links(client_id)\n",
    "    for link in links:\n",
    "        download_link(download_dir, link)\n",
    "    logging.info('Took %s seconds', time() - ts)\n",
    "\n",
    "if __name__ == '__main__':\n",
    "    main()"
   ]
  },
  {
   "cell_type": "code",
   "execution_count": 6,
   "metadata": {},
   "outputs": [
    {
     "ename": "Exception",
     "evalue": "Couldn't find IMGUR_CLIENT_ID environment variable!",
     "output_type": "error",
     "traceback": [
      "\u001b[1;31m---------------------------------------------------------------------------\u001b[0m",
      "\u001b[1;31mException\u001b[0m                                 Traceback (most recent call last)",
      "\u001b[1;32m<ipython-input-6-85e933387513>\u001b[0m in \u001b[0;36m<module>\u001b[1;34m()\u001b[0m\n\u001b[0;32m     53\u001b[0m \u001b[1;33m\u001b[0m\u001b[0m\n\u001b[0;32m     54\u001b[0m \u001b[1;32mif\u001b[0m \u001b[0m__name__\u001b[0m \u001b[1;33m==\u001b[0m \u001b[1;34m'__main__'\u001b[0m\u001b[1;33m:\u001b[0m\u001b[1;33m\u001b[0m\u001b[0m\n\u001b[1;32m---> 55\u001b[1;33m     \u001b[0mmain\u001b[0m\u001b[1;33m(\u001b[0m\u001b[1;33m)\u001b[0m\u001b[1;33m\u001b[0m\u001b[0m\n\u001b[0m",
      "\u001b[1;32m<ipython-input-6-85e933387513>\u001b[0m in \u001b[0;36mmain\u001b[1;34m()\u001b[0m\n\u001b[0;32m     33\u001b[0m     \u001b[0mclient_id\u001b[0m \u001b[1;33m=\u001b[0m \u001b[0mos\u001b[0m\u001b[1;33m.\u001b[0m\u001b[0mgetenv\u001b[0m\u001b[1;33m(\u001b[0m\u001b[1;34m'IMGUR_CLIENT_ID'\u001b[0m\u001b[1;33m)\u001b[0m\u001b[1;33m\u001b[0m\u001b[0m\n\u001b[0;32m     34\u001b[0m     \u001b[1;32mif\u001b[0m \u001b[1;32mnot\u001b[0m \u001b[0mclient_id\u001b[0m\u001b[1;33m:\u001b[0m\u001b[1;33m\u001b[0m\u001b[0m\n\u001b[1;32m---> 35\u001b[1;33m         \u001b[1;32mraise\u001b[0m \u001b[0mException\u001b[0m\u001b[1;33m(\u001b[0m\u001b[1;34m\"Couldn't find IMGUR_CLIENT_ID environment variable!\"\u001b[0m\u001b[1;33m)\u001b[0m\u001b[1;33m\u001b[0m\u001b[0m\n\u001b[0m\u001b[0;32m     36\u001b[0m     \u001b[0mdownload_dir\u001b[0m \u001b[1;33m=\u001b[0m \u001b[0msetup_download_dir\u001b[0m\u001b[1;33m(\u001b[0m\u001b[1;33m)\u001b[0m\u001b[1;33m\u001b[0m\u001b[0m\n\u001b[0;32m     37\u001b[0m     \u001b[0mlinks\u001b[0m \u001b[1;33m=\u001b[0m \u001b[0mget_links\u001b[0m\u001b[1;33m(\u001b[0m\u001b[0mclient_id\u001b[0m\u001b[1;33m)\u001b[0m\u001b[1;33m\u001b[0m\u001b[0m\n",
      "\u001b[1;31mException\u001b[0m: Couldn't find IMGUR_CLIENT_ID environment variable!"
     ]
    }
   ],
   "source": [
    "import logging\n",
    "import os\n",
    "from queue import Queue\n",
    "from threading import Thread\n",
    "from time import time\n",
    "\n",
    "#from download import setup_download_dir, get_links, download_link\n",
    "\n",
    "\n",
    "logging.basicConfig(level=logging.INFO, format='%(asctime)s - %(name)s - %(levelname)s - %(message)s')\n",
    "\n",
    "logger = logging.getLogger(__name__)\n",
    "\n",
    "\n",
    "class DownloadWorker(Thread):\n",
    "\n",
    "    def __init__(self, queue):\n",
    "        Thread.__init__(self)\n",
    "        self.queue = queue\n",
    "\n",
    "    def run(self):\n",
    "        while True:\n",
    "            # Get the work from the queue and expand the tuple\n",
    "            directory, link = self.queue.get()\n",
    "            try:\n",
    "                download_link(directory, link)\n",
    "            finally:\n",
    "                self.queue.task_done()\n",
    "\n",
    "\n",
    "def main():\n",
    "    ts = time()\n",
    "    client_id = os.getenv('IMGUR_CLIENT_ID')\n",
    "    if not client_id:\n",
    "        raise Exception(\"Couldn't find IMGUR_CLIENT_ID environment variable!\")\n",
    "    download_dir = setup_download_dir()\n",
    "    links = get_links(client_id)\n",
    "    # Create a queue to communicate with the worker threads\n",
    "    queue = Queue()\n",
    "    # Create 8 worker threads\n",
    "    for x in range(8):\n",
    "        worker = DownloadWorker(queue)\n",
    "        # Setting daemon to True will let the main thread exit even though the workers are blocking\n",
    "        worker.daemon = True\n",
    "        worker.start()\n",
    "    # Put the tasks into the queue as a tuple\n",
    "    for link in links:\n",
    "        logger.info('Queueing {}'.format(link))\n",
    "        queue.put((download_dir, link))\n",
    "    # Causes the main thread to wait for the queue to finish processing all the tasks\n",
    "    queue.join()\n",
    "    logging.info('Took %s', time() - ts)\n",
    "\n",
    "if __name__ == '__main__':\n",
    "    main()"
   ]
  },
  {
   "cell_type": "code",
   "execution_count": null,
   "metadata": {},
   "outputs": [],
   "source": []
  }
 ],
 "metadata": {
  "kernelspec": {
   "display_name": "Python 3",
   "language": "python",
   "name": "python3"
  },
  "language_info": {
   "codemirror_mode": {
    "name": "ipython",
    "version": 3
   },
   "file_extension": ".py",
   "mimetype": "text/x-python",
   "name": "python",
   "nbconvert_exporter": "python",
   "pygments_lexer": "ipython3",
   "version": "3.6.5"
  }
 },
 "nbformat": 4,
 "nbformat_minor": 2
}
