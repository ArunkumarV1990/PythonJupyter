{
 "cells": [
  {
   "cell_type": "code",
   "execution_count": 65,
   "metadata": {},
   "outputs": [
    {
     "data": {
      "text/plain": [
       "['__add__',\n",
       " '__class__',\n",
       " '__contains__',\n",
       " '__delattr__',\n",
       " '__delitem__',\n",
       " '__dir__',\n",
       " '__doc__',\n",
       " '__eq__',\n",
       " '__format__',\n",
       " '__ge__',\n",
       " '__getattribute__',\n",
       " '__getitem__',\n",
       " '__gt__',\n",
       " '__hash__',\n",
       " '__iadd__',\n",
       " '__imul__',\n",
       " '__init__',\n",
       " '__init_subclass__',\n",
       " '__iter__',\n",
       " '__le__',\n",
       " '__len__',\n",
       " '__lt__',\n",
       " '__mul__',\n",
       " '__ne__',\n",
       " '__new__',\n",
       " '__reduce__',\n",
       " '__reduce_ex__',\n",
       " '__repr__',\n",
       " '__reversed__',\n",
       " '__rmul__',\n",
       " '__setattr__',\n",
       " '__setitem__',\n",
       " '__sizeof__',\n",
       " '__str__',\n",
       " '__subclasshook__',\n",
       " 'append',\n",
       " 'clear',\n",
       " 'copy',\n",
       " 'count',\n",
       " 'extend',\n",
       " 'index',\n",
       " 'insert',\n",
       " 'pop',\n",
       " 'remove',\n",
       " 'reverse',\n",
       " 'sort']"
      ]
     },
     "execution_count": 65,
     "metadata": {},
     "output_type": "execute_result"
    }
   ],
   "source": [
    "import os\n",
    "entries = os.listdir(\".\")  #C:\\\\Users\\\\32831\\\\Downloads\\\\t\n",
    "dir(entries)\n",
    "#print(entries)"
   ]
  },
  {
   "cell_type": "code",
   "execution_count": 31,
   "metadata": {},
   "outputs": [
    {
     "name": "stdout",
     "output_type": "stream",
     "text": [
      "jupyter files ['00-Introduction.ipynb', '01-How-to-Run-Python-Code.ipynb', '02-Basic-Python-Syntax.ipynb', '03-Semantics-Variables.ipynb', '04-Semantics-Operators.ipynb', '05-Built-in-Scalar-Types.ipynb', '06-Built-in-Data-Structures.ipynb', '07-Control-Flow-Statements.ipynb', '08-1 Functions.ipynb', '08-Defining-Functions.ipynb', '09-Errors-and-Exceptions.ipynb', '10-Iterators.ipynb', '11-List-Comprehensions.ipynb', '12-Generators.ipynb', '13-Modules-and-Packages.ipynb', '14-Strings-and-Regular-Expressions.ipynb', '15-Preview-of-Data-Science-Tools.ipynb', '17-Figures.ipynb', 'adafruit.ipynb', 'advancedclasses.ipynb', 'args and kwargs .ipynb', 'audio.ipynb', 'cardvalidator .ipynb', 'chatbot .ipynb', 'classesobjects.ipynb', 'collections.ipynb', 'filehandling .ipynb', 'flask req.ipynb', 'flask.ipynb', 'irctc.ipynb', 'listcomprehension.ipynb', 'machine learning.ipynb', 'map,reduce,filter.ipynb', 'multithread.ipynb', 'networking.ipynb', 'os.ipynb', 'regularexpresssion.ipynb', 'specialprograms.ipynb', 'thingsboard.ipynb', 'Untitled.ipynb', 'Untitled2.ipynb', 'weather .ipynb']\n",
      "\n",
      "unknown files  ['.ipynb_checkpoints', '2019-05-13_16-48-04', '2019-05-13_16-49-04', '2019-05-13_18-55-09.txt', '2019-05-13_18-55-32.txt', '2019-05-13_18-55-34.txt', '2019-05-13_18-55-35.txt', '2019-05-13_18-55-38.txt', '2019-05-13_18-55-39.txt', '2019-05-13_18-55-40.txt', '2019-05-13_18-55-41.txt', '2019-05-13_18-55-42.txt', '2019-05-13_18-55-43.txt', '2019-05-13_18-55-44.txt', '2019-05-13_18-55-45.txt', '2019-05-13_18-55-46.txt', '2019-05-13_18-55-47.txt', '2019-05-13_18-55-48.txt', '2019-05-13_18-55-49.txt', '2019-05-13_18-55-50.txt', '2019-05-13_18-55-51.txt', '2019-05-13_18-55-52.txt', 'Amazon.pem', 'authority.pem', 'download.png', 'e9b208a924-certificate.pem.crt', 'e9b208a924-private.pem.key', 'e9b208a924-public.pem.key', 'en.mp3', 'engineer.mp3', 'example_2.json', 'file.txt', 'Flask-URL-Shortener-master', 'Flask-URL-Shortener-master (1).zip', 'Flask-Url.zip', 'flask_eg', 'foo.txt', 'gen.txt', 'haarcascade_eye.xml', 'haarcascade_frontalface_default.xml', 'images.jpg', 'kmv.txt', 'loginPage', 'moviedata.json', 'mqtt', 'mqtt - Copy', 'mqtt - Copy (2)', 'mqtt - Copy (3)', 'myqr.svg', 'Names.csv', 'output.csv', 'pythonppt-master', 'pythonppt-master - Copy', 'pythonppt-master - Copy (2)', 'pythonppt-master - Copy (3)', 'pythonppt-master - Copy (4)', 'pythonppt-master - Copy (5)', 'TCP_IP_socket_diagram.png', 'thread.png', 'writejson.json']\n"
     ]
    }
   ],
   "source": [
    "pynb = []\n",
    "unk = []\n",
    "entries = os.listdir('.')\n",
    "\n",
    "for entry in entries:\n",
    "    #print(entry.split(\".\")[-1])\n",
    "    if (entry.split(\".\")[-1] == \"ipynb\"):\n",
    "        pynb.append(entry)\n",
    "    else:\n",
    "        unk.append(entry)\n",
    "print(\"jupyter files\",pynb)\n",
    "print()\n",
    "print(\"unknown files \",unk)\n",
    "    \n",
    "    "
   ]
  },
  {
   "cell_type": "code",
   "execution_count": 34,
   "metadata": {},
   "outputs": [
    {
     "data": {
      "text/plain": [
       "[<DirEntry 'Introduction to MQTT.ppt'>,\n",
       " <DirEntry 'pub.py'>,\n",
       " <DirEntry 'pythonppt-master'>,\n",
       " <DirEntry 'pythonppt-master - Copy'>,\n",
       " <DirEntry 'pythonppt-master - Copy (2)'>,\n",
       " <DirEntry 'pythonppt-master - Copy (3)'>,\n",
       " <DirEntry 'pythonppt-master - Copy (4)'>,\n",
       " <DirEntry 'sub.py'>]"
      ]
     },
     "execution_count": 34,
     "metadata": {},
     "output_type": "execute_result"
    }
   ],
   "source": [
    "import os\n",
    "entries = os.scandir('mqtt')\n",
    "list(entries)"
   ]
  },
  {
   "cell_type": "code",
   "execution_count": 41,
   "metadata": {},
   "outputs": [
    {
     "name": "stdout",
     "output_type": "stream",
     "text": [
      "<class 'nt.DirEntry'>\n",
      "<class 'nt.DirEntry'>\n",
      "<class 'nt.DirEntry'>\n",
      "<class 'nt.DirEntry'>\n",
      "<class 'nt.DirEntry'>\n",
      "<class 'nt.DirEntry'>\n",
      "<class 'nt.DirEntry'>\n",
      "<class 'nt.DirEntry'>\n"
     ]
    }
   ],
   "source": [
    "import os\n",
    "\n",
    "with os.scandir('mqtt/') as entries:\n",
    "    for entry in entries:\n",
    "        print(type(entry))"
   ]
  },
  {
   "cell_type": "code",
   "execution_count": 45,
   "metadata": {},
   "outputs": [
    {
     "name": "stdout",
     "output_type": "stream",
     "text": [
      "mqtt\n",
      "Introduction to MQTT.ppt\n",
      "pub.py\n",
      "pythonppt-master\n",
      "pythonppt-master - Copy\n",
      "pythonppt-master - Copy (2)\n",
      "pythonppt-master - Copy (3)\n",
      "pythonppt-master - Copy (4)\n",
      "sub.py\n",
      "Help on WindowsPath in module pathlib object:\n",
      "\n",
      "class WindowsPath(Path, PureWindowsPath)\n",
      " |  Path subclass for Windows systems.\n",
      " |  \n",
      " |  On a Windows system, instantiating a Path should return this object.\n",
      " |  \n",
      " |  Method resolution order:\n",
      " |      WindowsPath\n",
      " |      Path\n",
      " |      PureWindowsPath\n",
      " |      PurePath\n",
      " |      builtins.object\n",
      " |  \n",
      " |  Methods defined here:\n",
      " |  \n",
      " |  group(self)\n",
      " |      Return the group name of the file gid.\n",
      " |  \n",
      " |  owner(self)\n",
      " |      Return the login name of the file owner.\n",
      " |  \n",
      " |  ----------------------------------------------------------------------\n",
      " |  Methods inherited from Path:\n",
      " |  \n",
      " |  __enter__(self)\n",
      " |  \n",
      " |  __exit__(self, t, v, tb)\n",
      " |  \n",
      " |  absolute(self)\n",
      " |      Return an absolute version of this path.  This function works\n",
      " |      even if the path doesn't point to anything.\n",
      " |      \n",
      " |      No normalization is done, i.e. all '.' and '..' will be kept along.\n",
      " |      Use resolve() to get the canonical path to a file.\n",
      " |  \n",
      " |  chmod(self, mode)\n",
      " |      Change the permissions of the path, like os.chmod().\n",
      " |  \n",
      " |  exists(self)\n",
      " |      Whether this path exists.\n",
      " |  \n",
      " |  expanduser(self)\n",
      " |      Return a new path with expanded ~ and ~user constructs\n",
      " |      (as returned by os.path.expanduser)\n",
      " |  \n",
      " |  glob(self, pattern)\n",
      " |      Iterate over this subtree and yield all existing files (of any\n",
      " |      kind, including directories) matching the given pattern.\n",
      " |  \n",
      " |  is_block_device(self)\n",
      " |      Whether this path is a block device.\n",
      " |  \n",
      " |  is_char_device(self)\n",
      " |      Whether this path is a character device.\n",
      " |  \n",
      " |  is_dir(self)\n",
      " |      Whether this path is a directory.\n",
      " |  \n",
      " |  is_fifo(self)\n",
      " |      Whether this path is a FIFO.\n",
      " |  \n",
      " |  is_file(self)\n",
      " |      Whether this path is a regular file (also True for symlinks pointing\n",
      " |      to regular files).\n",
      " |  \n",
      " |  is_socket(self)\n",
      " |      Whether this path is a socket.\n",
      " |  \n",
      " |  is_symlink(self)\n",
      " |      Whether this path is a symbolic link.\n",
      " |  \n",
      " |  iterdir(self)\n",
      " |      Iterate over the files in this directory.  Does not yield any\n",
      " |      result for the special paths '.' and '..'.\n",
      " |  \n",
      " |  lchmod(self, mode)\n",
      " |      Like chmod(), except if the path points to a symlink, the symlink's\n",
      " |      permissions are changed, rather than its target's.\n",
      " |  \n",
      " |  lstat(self)\n",
      " |      Like stat(), except if the path points to a symlink, the symlink's\n",
      " |      status information is returned, rather than its target's.\n",
      " |  \n",
      " |  mkdir(self, mode=511, parents=False, exist_ok=False)\n",
      " |      Create a new directory at this given path.\n",
      " |  \n",
      " |  open(self, mode='r', buffering=-1, encoding=None, errors=None, newline=None)\n",
      " |      Open the file pointed by this path and return a file object, as\n",
      " |      the built-in open() function does.\n",
      " |  \n",
      " |  read_bytes(self)\n",
      " |      Open the file in bytes mode, read it, and close the file.\n",
      " |  \n",
      " |  read_text(self, encoding=None, errors=None)\n",
      " |      Open the file in text mode, read it, and close the file.\n",
      " |  \n",
      " |  rename(self, target)\n",
      " |      Rename this path to the given path.\n",
      " |  \n",
      " |  replace(self, target)\n",
      " |      Rename this path to the given path, clobbering the existing\n",
      " |      destination if it exists.\n",
      " |  \n",
      " |  resolve(self, strict=False)\n",
      " |      Make the path absolute, resolving all symlinks on the way and also\n",
      " |      normalizing it (for example turning slashes into backslashes under\n",
      " |      Windows).\n",
      " |  \n",
      " |  rglob(self, pattern)\n",
      " |      Recursively yield all existing files (of any kind, including\n",
      " |      directories) matching the given pattern, anywhere in this subtree.\n",
      " |  \n",
      " |  rmdir(self)\n",
      " |      Remove this directory.  The directory must be empty.\n",
      " |  \n",
      " |  samefile(self, other_path)\n",
      " |      Return whether other_path is the same or not as this file\n",
      " |      (as returned by os.path.samefile()).\n",
      " |  \n",
      " |  stat(self)\n",
      " |      Return the result of the stat() system call on this path, like\n",
      " |      os.stat() does.\n",
      " |  \n",
      " |  symlink_to(self, target, target_is_directory=False)\n",
      " |      Make this path a symlink pointing to the given path.\n",
      " |      Note the order of arguments (self, target) is the reverse of os.symlink's.\n",
      " |  \n",
      " |  touch(self, mode=438, exist_ok=True)\n",
      " |      Create this file with the given access mode, if it doesn't exist.\n",
      " |  \n",
      " |  unlink(self)\n",
      " |      Remove this file or link.\n",
      " |      If the path is a directory, use rmdir() instead.\n",
      " |  \n",
      " |  write_bytes(self, data)\n",
      " |      Open the file in bytes mode, write to it, and close the file.\n",
      " |  \n",
      " |  write_text(self, data, encoding=None, errors=None)\n",
      " |      Open the file in text mode, write to it, and close the file.\n",
      " |  \n",
      " |  ----------------------------------------------------------------------\n",
      " |  Class methods inherited from Path:\n",
      " |  \n",
      " |  cwd() from builtins.type\n",
      " |      Return a new path pointing to the current working directory\n",
      " |      (as returned by os.getcwd()).\n",
      " |  \n",
      " |  home() from builtins.type\n",
      " |      Return a new path pointing to the user's home directory (as\n",
      " |      returned by os.path.expanduser('~')).\n",
      " |  \n",
      " |  ----------------------------------------------------------------------\n",
      " |  Static methods inherited from Path:\n",
      " |  \n",
      " |  __new__(cls, *args, **kwargs)\n",
      " |      Construct a PurePath from one or several strings and or existing\n",
      " |      PurePath objects.  The strings and path objects are combined so as\n",
      " |      to yield a canonicalized path, which is incorporated into the\n",
      " |      new PurePath object.\n",
      " |  \n",
      " |  ----------------------------------------------------------------------\n",
      " |  Methods inherited from PurePath:\n",
      " |  \n",
      " |  __bytes__(self)\n",
      " |      Return the bytes representation of the path.  This is only\n",
      " |      recommended to use under Unix.\n",
      " |  \n",
      " |  __eq__(self, other)\n",
      " |      Return self==value.\n",
      " |  \n",
      " |  __fspath__(self)\n",
      " |  \n",
      " |  __ge__(self, other)\n",
      " |      Return self>=value.\n",
      " |  \n",
      " |  __gt__(self, other)\n",
      " |      Return self>value.\n",
      " |  \n",
      " |  __hash__(self)\n",
      " |      Return hash(self).\n",
      " |  \n",
      " |  __le__(self, other)\n",
      " |      Return self<=value.\n",
      " |  \n",
      " |  __lt__(self, other)\n",
      " |      Return self<value.\n",
      " |  \n",
      " |  __reduce__(self)\n",
      " |      helper for pickle\n",
      " |  \n",
      " |  __repr__(self)\n",
      " |      Return repr(self).\n",
      " |  \n",
      " |  __rtruediv__(self, key)\n",
      " |  \n",
      " |  __str__(self)\n",
      " |      Return the string representation of the path, suitable for\n",
      " |      passing to system calls.\n",
      " |  \n",
      " |  __truediv__(self, key)\n",
      " |  \n",
      " |  as_posix(self)\n",
      " |      Return the string representation of the path with forward (/)\n",
      " |      slashes.\n",
      " |  \n",
      " |  as_uri(self)\n",
      " |      Return the path as a 'file' URI.\n",
      " |  \n",
      " |  is_absolute(self)\n",
      " |      True if the path is absolute (has both a root and, if applicable,\n",
      " |      a drive).\n",
      " |  \n",
      " |  is_reserved(self)\n",
      " |      Return True if the path contains one of the special names reserved\n",
      " |      by the system, if any.\n",
      " |  \n",
      " |  joinpath(self, *args)\n",
      " |      Combine this path with one or several arguments, and return a\n",
      " |      new path representing either a subpath (if all arguments are relative\n",
      " |      paths) or a totally different path (if one of the arguments is\n",
      " |      anchored).\n",
      " |  \n",
      " |  match(self, path_pattern)\n",
      " |      Return True if this path matches the given pattern.\n",
      " |  \n",
      " |  relative_to(self, *other)\n",
      " |      Return the relative path to another path identified by the passed\n",
      " |      arguments.  If the operation is not possible (because this is not\n",
      " |      a subpath of the other path), raise ValueError.\n",
      " |  \n",
      " |  with_name(self, name)\n",
      " |      Return a new path with the file name changed.\n",
      " |  \n",
      " |  with_suffix(self, suffix)\n",
      " |      Return a new path with the file suffix changed (or added, if none).\n",
      " |  \n",
      " |  ----------------------------------------------------------------------\n",
      " |  Data descriptors inherited from PurePath:\n",
      " |  \n",
      " |  anchor\n",
      " |      The concatenation of the drive and root, or ''.\n",
      " |  \n",
      " |  drive\n",
      " |      The drive prefix (letter or UNC path), if any.\n",
      " |  \n",
      " |  name\n",
      " |      The final path component, if any.\n",
      " |  \n",
      " |  parent\n",
      " |      The logical parent of the path.\n",
      " |  \n",
      " |  parents\n",
      " |      A sequence of this path's logical parents.\n",
      " |  \n",
      " |  parts\n",
      " |      An object providing sequence-like access to the\n",
      " |      components in the filesystem path.\n",
      " |  \n",
      " |  root\n",
      " |      The root of the path, if any.\n",
      " |  \n",
      " |  stem\n",
      " |      The final path component, minus its last suffix.\n",
      " |  \n",
      " |  suffix\n",
      " |      The final component's last suffix, if any.\n",
      " |  \n",
      " |  suffixes\n",
      " |      A list of the final component's suffixes, if any.\n",
      "\n"
     ]
    }
   ],
   "source": [
    "from pathlib import Path\n",
    "\n",
    "entries = Path('mqtt/')\n",
    "print(entries)\n",
    "for entry in entries.iterdir():\n",
    "    print(entry.name)\n",
    "help(entry)"
   ]
  },
  {
   "cell_type": "code",
   "execution_count": null,
   "metadata": {},
   "outputs": [],
   "source": [
    "import os\n",
    "\n",
    "# List all subdirectories using os.listdir\n",
    "basepath = '.'\n",
    "for entry in os.listdir(basepath):\n",
    "    \n",
    "    if os.path.isdir(entry):#os.path.join(basepath, entry)):\n",
    "        print(entry)\n"
   ]
  },
  {
   "cell_type": "code",
   "execution_count": null,
   "metadata": {},
   "outputs": [],
   "source": [
    "import os\n",
    "\n",
    "# List all subdirectories using scandir()\n",
    "basepath = '.'\n",
    "with os.scandir(basepath) as entries:\n",
    "    for entry in entries:\n",
    "        if entry.is_dir():\n",
    "            print(entry.name)"
   ]
  },
  {
   "cell_type": "code",
   "execution_count": null,
   "metadata": {},
   "outputs": [],
   "source": [
    "from pathlib import Path\n",
    "\n",
    "# List all subdirectory using pathlib\n",
    "basepath = Path('.')\n",
    "for entry in basepath.iterdir():\n",
    "    if entry.is_dir():\n",
    "        print(entry.name)"
   ]
  },
  {
   "cell_type": "code",
   "execution_count": null,
   "metadata": {},
   "outputs": [],
   "source": [
    "import os\n",
    "from datetime import date\n",
    "with os.scandir('.') as dir_contents:\n",
    "    for entry in dir_contents:\n",
    "        info = entry.stat()\n",
    "        print(\"file\",entry.name,info.st_ctime)"
   ]
  },
  {
   "cell_type": "code",
   "execution_count": null,
   "metadata": {},
   "outputs": [],
   "source": [
    "import os\n",
    "from datetime import date\n",
    "with os.scandir('.') as dir_contents:\n",
    "    for entry in dir_contents:\n",
    "        info = entry.stat()\n",
    "        print(entry,date.fromtimestamp(info.st_mtime))"
   ]
  },
  {
   "cell_type": "code",
   "execution_count": 53,
   "metadata": {},
   "outputs": [
    {
     "name": "stdout",
     "output_type": "stream",
     "text": [
      "00-Introduction.ipynb\t Last Modified: 27th Mar 2019  04:hrs 26:mins 33:Seconds\n",
      "01-How-to-Run-Python-Code.ipynb\t Last Modified: 04th Apr 2019  03:hrs 30:mins 17:Seconds\n",
      "02-Basic-Python-Syntax.ipynb\t Last Modified: 04th Apr 2019  03:hrs 33:mins 16:Seconds\n",
      "03-Semantics-Variables.ipynb\t Last Modified: 18th Mar 2019  21:hrs 03:mins 46:Seconds\n",
      "04-Semantics-Operators.ipynb\t Last Modified: 18th Mar 2019  21:hrs 03:mins 46:Seconds\n",
      "05-Built-in-Scalar-Types.ipynb\t Last Modified: 18th Mar 2019  21:hrs 03:mins 46:Seconds\n",
      "06-Built-in-Data-Structures.ipynb\t Last Modified: 04th Apr 2019  03:hrs 10:mins 17:Seconds\n",
      "07-Control-Flow-Statements.ipynb\t Last Modified: 18th Mar 2019  21:hrs 03:mins 46:Seconds\n",
      "08-1 Functions.ipynb\t Last Modified: 03th May 2019  14:hrs 20:mins 42:Seconds\n",
      "08-Defining-Functions.ipynb\t Last Modified: 16th Apr 2019  04:hrs 31:mins 31:Seconds\n",
      "09-Errors-and-Exceptions.ipynb\t Last Modified: 22th Apr 2019  08:hrs 53:mins 57:Seconds\n",
      "10-Iterators.ipynb\t Last Modified: 18th Mar 2019  21:hrs 03:mins 46:Seconds\n",
      "11-List-Comprehensions.ipynb\t Last Modified: 19th Mar 2019  09:hrs 48:mins 36:Seconds\n",
      "12-Generators.ipynb\t Last Modified: 20th Mar 2019  10:hrs 51:mins 30:Seconds\n",
      "13-Modules-and-Packages.ipynb\t Last Modified: 20th Mar 2019  12:hrs 10:mins 31:Seconds\n",
      "14-Strings-and-Regular-Expressions.ipynb\t Last Modified: 20th Mar 2019  12:hrs 12:mins 13:Seconds\n",
      "15-Preview-of-Data-Science-Tools.ipynb\t Last Modified: 20th Mar 2019  12:hrs 29:mins 24:Seconds\n",
      "17-Figures.ipynb\t Last Modified: 18th Mar 2019  21:hrs 03:mins 46:Seconds\n",
      "2019-05-13_18-55-09.txt\t Last Modified: 13th May 2019  13:hrs 25:mins 09:Seconds\n",
      "2019-05-13_18-55-32.txt\t Last Modified: 13th May 2019  13:hrs 25:mins 32:Seconds\n",
      "2019-05-13_18-55-34.txt\t Last Modified: 13th May 2019  13:hrs 25:mins 34:Seconds\n",
      "2019-05-13_18-55-35.txt\t Last Modified: 13th May 2019  13:hrs 25:mins 35:Seconds\n",
      "2019-05-13_18-55-38.txt\t Last Modified: 13th May 2019  13:hrs 25:mins 38:Seconds\n",
      "2019-05-13_18-55-39.txt\t Last Modified: 13th May 2019  13:hrs 25:mins 39:Seconds\n",
      "2019-05-13_18-55-40.txt\t Last Modified: 13th May 2019  13:hrs 25:mins 40:Seconds\n",
      "2019-05-13_18-55-41.txt\t Last Modified: 13th May 2019  13:hrs 25:mins 41:Seconds\n",
      "2019-05-13_18-55-42.txt\t Last Modified: 13th May 2019  13:hrs 25:mins 42:Seconds\n",
      "2019-05-13_18-55-43.txt\t Last Modified: 13th May 2019  13:hrs 25:mins 43:Seconds\n",
      "2019-05-13_18-55-44.txt\t Last Modified: 13th May 2019  13:hrs 25:mins 44:Seconds\n",
      "2019-05-13_18-55-45.txt\t Last Modified: 13th May 2019  13:hrs 25:mins 45:Seconds\n",
      "2019-05-13_18-55-46.txt\t Last Modified: 13th May 2019  13:hrs 25:mins 46:Seconds\n",
      "2019-05-13_18-55-47.txt\t Last Modified: 13th May 2019  13:hrs 25:mins 47:Seconds\n",
      "2019-05-13_18-55-48.txt\t Last Modified: 13th May 2019  13:hrs 25:mins 48:Seconds\n",
      "2019-05-13_18-55-49.txt\t Last Modified: 13th May 2019  13:hrs 25:mins 49:Seconds\n",
      "2019-05-13_18-55-50.txt\t Last Modified: 13th May 2019  13:hrs 25:mins 50:Seconds\n",
      "2019-05-13_18-55-51.txt\t Last Modified: 13th May 2019  13:hrs 25:mins 51:Seconds\n",
      "2019-05-13_18-55-52.txt\t Last Modified: 13th May 2019  13:hrs 25:mins 52:Seconds\n",
      "adafruit.ipynb\t Last Modified: 10th May 2019  12:hrs 52:mins 06:Seconds\n",
      "advancedclasses.ipynb\t Last Modified: 12th Apr 2019  04:hrs 51:mins 16:Seconds\n",
      "Amazon.pem\t Last Modified: 08th May 2019  08:hrs 37:mins 32:Seconds\n",
      "args and kwargs .ipynb\t Last Modified: 09th May 2019  07:hrs 29:mins 57:Seconds\n",
      "audio.ipynb\t Last Modified: 25th Apr 2019  04:hrs 09:mins 29:Seconds\n",
      "authority.pem\t Last Modified: 04th Apr 2019  06:hrs 29:mins 49:Seconds\n",
      "cardvalidator .ipynb\t Last Modified: 09th May 2019  13:hrs 05:mins 14:Seconds\n",
      "chatbot .ipynb\t Last Modified: 27th Mar 2019  11:hrs 41:mins 53:Seconds\n",
      "classesobjects.ipynb\t Last Modified: 30th Mar 2019  03:hrs 20:mins 00:Seconds\n",
      "collections.ipynb\t Last Modified: 30th Apr 2019  11:hrs 45:mins 28:Seconds\n",
      "download.png\t Last Modified: 12th Apr 2019  08:hrs 09:mins 07:Seconds\n",
      "e9b208a924-certificate.pem.crt\t Last Modified: 13th May 2019  12:hrs 52:mins 37:Seconds\n",
      "e9b208a924-private.pem.key\t Last Modified: 13th May 2019  12:hrs 52:mins 38:Seconds\n",
      "e9b208a924-public.pem.key\t Last Modified: 13th May 2019  12:hrs 52:mins 39:Seconds\n",
      "en.mp3\t Last Modified: 25th Apr 2019  04:hrs 08:mins 10:Seconds\n",
      "engineer.mp3\t Last Modified: 22th Mar 2019  16:hrs 42:mins 02:Seconds\n",
      "example_2.json\t Last Modified: 17th Apr 2019  07:hrs 29:mins 31:Seconds\n",
      "file.txt\t Last Modified: 24th Apr 2019  07:hrs 59:mins 04:Seconds\n",
      "filehandling .ipynb\t Last Modified: 25th Apr 2019  04:hrs 23:mins 56:Seconds\n",
      "flask req.ipynb\t Last Modified: 25th Mar 2019  06:hrs 22:mins 10:Seconds\n",
      "Flask-URL-Shortener-master (1).zip\t Last Modified: 06th May 2019  08:hrs 28:mins 01:Seconds\n",
      "Flask-Url.zip\t Last Modified: 06th May 2019  08:hrs 25:mins 13:Seconds\n",
      "flask.ipynb\t Last Modified: 25th Mar 2019  06:hrs 44:mins 12:Seconds\n",
      "foo.txt\t Last Modified: 25th Apr 2019  03:hrs 55:mins 46:Seconds\n",
      "gen.txt\t Last Modified: 25th Apr 2019  03:hrs 49:mins 41:Seconds\n",
      "haarcascade_eye.xml\t Last Modified: 13th Apr 2019  06:hrs 44:mins 06:Seconds\n",
      "haarcascade_frontalface_default.xml\t Last Modified: 13th Apr 2019  06:hrs 02:mins 29:Seconds\n",
      "images.jpg\t Last Modified: 13th Apr 2019  05:hrs 55:mins 59:Seconds\n",
      "irctc.ipynb\t Last Modified: 06th May 2019  08:hrs 10:mins 38:Seconds\n",
      "kmv.txt\t Last Modified: 25th Apr 2019  03:hrs 47:mins 21:Seconds\n",
      "listcomprehension.ipynb\t Last Modified: 19th Mar 2019  09:hrs 49:mins 03:Seconds\n",
      "machine learning.ipynb\t Last Modified: 25th Apr 2019  04:hrs 34:mins 38:Seconds\n",
      "map,reduce,filter.ipynb\t Last Modified: 09th May 2019  02:hrs 21:mins 30:Seconds\n",
      "moviedata.json\t Last Modified: 10th Nov 2015  06:hrs 02:mins 34:Seconds\n",
      "multithread.ipynb\t Last Modified: 20th Mar 2019  08:hrs 50:mins 00:Seconds\n",
      "myqr.svg\t Last Modified: 02th Apr 2019  10:hrs 19:mins 12:Seconds\n",
      "Names.csv\t Last Modified: 01th Apr 2019  07:hrs 55:mins 50:Seconds\n",
      "networking.ipynb\t Last Modified: 28th Mar 2019  08:hrs 52:mins 30:Seconds\n",
      "os.ipynb\t Last Modified: 14th May 2019  01:hrs 58:mins 46:Seconds\n",
      "output.csv\t Last Modified: 08th May 2019  07:hrs 18:mins 23:Seconds\n",
      "regularexpresssion.ipynb\t Last Modified: 18th Mar 2019  21:hrs 03:mins 46:Seconds\n",
      "specialprograms.ipynb\t Last Modified: 08th May 2019  07:hrs 18:mins 30:Seconds\n",
      "TCP_IP_socket_diagram.png\t Last Modified: 18th Mar 2019  21:hrs 03:mins 46:Seconds\n",
      "thingsboard.ipynb\t Last Modified: 13th May 2019  13:hrs 02:mins 14:Seconds\n",
      "thread.png\t Last Modified: 20th Mar 2019  08:hrs 38:mins 35:Seconds\n",
      "Untitled.ipynb\t Last Modified: 10th May 2019  10:hrs 20:mins 36:Seconds\n",
      "Untitled2.ipynb\t Last Modified: 25th Apr 2019  04:hrs 09:mins 29:Seconds\n",
      "weather .ipynb\t Last Modified: 06th May 2019  06:hrs 57:mins 36:Seconds\n",
      "writejson.json\t Last Modified: 25th Apr 2019  04:hrs 22:mins 47:Seconds\n"
     ]
    }
   ],
   "source": [
    "from datetime import datetime\n",
    "from os import scandir\n",
    "\n",
    "def convert_date(timestamp):\n",
    "    d = datetime.utcfromtimestamp(timestamp)\n",
    "    formated_date = d.strftime('%dth %b %Y  %H:hrs %M:mins %S:Seconds')\n",
    "    return formated_date\n",
    "\n",
    "def get_files():\n",
    "    dir_entries = scandir('.')\n",
    "    for entry in dir_entries:\n",
    "        if entry.is_file():\n",
    "            info = entry.stat()\n",
    "            print(f'{entry.name}\\t Last Modified: {convert_date(info.st_mtime)}')\n",
    "get_files()"
   ]
  },
  {
   "cell_type": "code",
   "execution_count": null,
   "metadata": {},
   "outputs": [],
   "source": [
    "import os\n",
    "\n",
    "os.mkdir('example_directory/')"
   ]
  },
  {
   "cell_type": "code",
   "execution_count": null,
   "metadata": {},
   "outputs": [],
   "source": [
    "from pathlib import Path\n",
    "\n",
    "p = Path('example_directory/ffadf/')\n",
    "p.mkdir()"
   ]
  },
  {
   "cell_type": "code",
   "execution_count": 54,
   "metadata": {},
   "outputs": [
    {
     "name": "stdout",
     "output_type": "stream",
     "text": [
      "<class 'str'>\n",
      "example_directory\n"
     ]
    }
   ],
   "source": [
    "from pathlib import Path\n",
    "from datetime import date\n",
    "now = datetime.now()\n",
    "r = now.strftime(\"%H:%M:%S\")\n",
    "print(type(r))\n",
    "\n",
    "p = Path('example_directory/')\n",
    "print(p)\n",
    "try:\n",
    "    p.mkdir()\n",
    "except FileExistsError as exc:\n",
    "    print(exc)"
   ]
  },
  {
   "cell_type": "code",
   "execution_count": 57,
   "metadata": {},
   "outputs": [],
   "source": [
    "import errno\n",
    "import os\n",
    "from datetime import datetime\n",
    "\n",
    "def filecreation(list1, filename):\n",
    "    mydir = os.path.join(os.getcwd(), \n",
    "        datetime.now().strftime('%Y-%m-%d_%H-%M-%S'))\n",
    "    try:\n",
    "        os.makedirs(mydir)\n",
    "    except OSError as e:\n",
    "        if e.errno != errno.EEXIST:\n",
    "            raise  # This was not a \"directory exist\" error..\n",
    "    with open(os.path.join(mydir, filename), 'w') as d:\n",
    "        d.writelines(list1)\n",
    "filecreation(\"hi from python\",datetime.now().strftime('%Y-%m-%d_%H-%M-%S')+'.txt')\n"
   ]
  },
  {
   "cell_type": "code",
   "execution_count": 60,
   "metadata": {},
   "outputs": [
    {
     "ename": "SyntaxError",
     "evalue": "invalid syntax (<ipython-input-60-32891b7c87c5>, line 4)",
     "output_type": "error",
     "traceback": [
      "\u001b[1;36m  File \u001b[1;32m\"<ipython-input-60-32891b7c87c5>\"\u001b[1;36m, line \u001b[1;32m4\u001b[0m\n\u001b[1;33m    p = pathlib.Path('2020/10/try/+datetime.now().strftime('%Y-%m-%d_%H-%M-%S')')\u001b[0m\n\u001b[1;37m                                                               ^\u001b[0m\n\u001b[1;31mSyntaxError\u001b[0m\u001b[1;31m:\u001b[0m invalid syntax\n"
     ]
    }
   ],
   "source": [
    "import pathlib\n",
    "from datetime import datetime\n",
    "\n",
    "p = pathlib.Path('2020/10/try/'+datetime.now().strftime('%Y-%m-%d_%H-%M-%S'))\n",
    "p.mkdir(parents=True)"
   ]
  },
  {
   "cell_type": "code",
   "execution_count": 61,
   "metadata": {},
   "outputs": [
    {
     "name": "stdout",
     "output_type": "stream",
     "text": [
      "en.mp3\n",
      "engineer.mp3\n"
     ]
    }
   ],
   "source": [
    "import os\n",
    "\n",
    "# Get .txt files\n",
    "for f_name in os.listdir('.'):\n",
    "    if f_name.endswith('.mp3'):\n",
    "        print(f_name)"
   ]
  },
  {
   "cell_type": "code",
   "execution_count": 62,
   "metadata": {},
   "outputs": [
    {
     "name": "stdout",
     "output_type": "stream",
     "text": [
      "2019-05-13_18-55-09.txt\n",
      "2019-05-13_18-55-32.txt\n",
      "2019-05-13_18-55-34.txt\n",
      "2019-05-13_18-55-35.txt\n",
      "2019-05-13_18-55-38.txt\n",
      "2019-05-13_18-55-39.txt\n",
      "2019-05-13_18-55-40.txt\n",
      "2019-05-13_18-55-41.txt\n",
      "2019-05-13_18-55-42.txt\n",
      "2019-05-13_18-55-43.txt\n",
      "2019-05-13_18-55-44.txt\n",
      "2019-05-13_18-55-45.txt\n",
      "2019-05-13_18-55-46.txt\n",
      "2019-05-13_18-55-47.txt\n",
      "2019-05-13_18-55-48.txt\n",
      "2019-05-13_18-55-49.txt\n",
      "2019-05-13_18-55-50.txt\n",
      "2019-05-13_18-55-51.txt\n",
      "2019-05-13_18-55-52.txt\n",
      "file.txt\n",
      "foo.txt\n",
      "gen.txt\n",
      "kmv.txt\n"
     ]
    }
   ],
   "source": [
    "import os\n",
    "import fnmatch\n",
    "\n",
    "for file_name in os.listdir('.'):\n",
    "    if fnmatch.fnmatch(file_name, '*.txt'):\n",
    "        print(file_name)"
   ]
  },
  {
   "cell_type": "code",
   "execution_count": 38,
   "metadata": {},
   "outputs": [],
   "source": [
    "import pathlib\n",
    "\n",
    "for i in \"12345\":\n",
    "    p = pathlib.Path(f'data_{i}_backup')\n",
    "    p.mkdir(parents=True)"
   ]
  },
  {
   "cell_type": "code",
   "execution_count": null,
   "metadata": {},
   "outputs": [],
   "source": [
    "import os \n",
    "import fnmatch\n",
    "\n",
    "for filename in os.listdir('.'):\n",
    "    if fnmatch.fnmatch(filename, 'data_*_backup.txt'):\n",
    "        print(filename)"
   ]
  },
  {
   "cell_type": "code",
   "execution_count": 37,
   "metadata": {},
   "outputs": [],
   "source": [
    "import os \n",
    "from datetime import datetime\n",
    "import time \n",
    "for i in range(1,100):\n",
    "   \n",
    "    #time = data_backup+str(datetime.now())+\".txt\"\n",
    "    with open(os.path.join(\".\", f\"data_{i}_backup.txt\"), 'w') as d:\n",
    "            d.writelines(\"Hi from Python \")\n",
    "    #time.sleep(5)"
   ]
  },
  {
   "cell_type": "code",
   "execution_count": 64,
   "metadata": {},
   "outputs": [
    {
     "ename": "KeyboardInterrupt",
     "evalue": "",
     "output_type": "error",
     "traceback": [
      "\u001b[1;31m---------------------------------------------------------------------------\u001b[0m",
      "\u001b[1;31mKeyboardInterrupt\u001b[0m                         Traceback (most recent call last)",
      "\u001b[1;32m<ipython-input-64-8eb44d8c435a>\u001b[0m in \u001b[0;36m<module>\u001b[1;34m()\u001b[0m\n\u001b[0;32m      7\u001b[0m                         \u001b[0md\u001b[0m\u001b[1;33m.\u001b[0m\u001b[0mwritelines\u001b[0m\u001b[1;33m(\u001b[0m\u001b[1;34m\"Hi from Python \"\u001b[0m\u001b[1;33m)\u001b[0m\u001b[1;33m\u001b[0m\u001b[0m\n\u001b[0;32m      8\u001b[0m                         \u001b[1;31m#time.sleep(5))''')\u001b[0m\u001b[1;33m\u001b[0m\u001b[1;33m\u001b[0m\u001b[0m\n\u001b[1;32m----> 9\u001b[1;33m     \u001b[0mtime\u001b[0m\u001b[1;33m.\u001b[0m\u001b[0msleep\u001b[0m\u001b[1;33m(\u001b[0m\u001b[1;36m1\u001b[0m\u001b[1;33m)\u001b[0m\u001b[1;33m\u001b[0m\u001b[0m\n\u001b[0m\u001b[0;32m     10\u001b[0m \u001b[1;33m\u001b[0m\u001b[0m\n",
      "\u001b[1;31mKeyboardInterrupt\u001b[0m: "
     ]
    }
   ],
   "source": [
    "import os \n",
    "import time\n",
    "for i in range(23):\n",
    "    with open(os.path.join(os.getcwd(),datetime.now().strftime('%Y-%m-%d_%H-%M-%S')+\".txt\"), 'w') as d:\n",
    "        d.writelines('''import os from datetime import datetime\n",
    "                        import time for i in range(1,100):#time = data_backup+str(datetime.now())+.with open(os.path.join( f\"data_{i}_backup.txt)) as d:\n",
    "                        d.writelines(\"Hi from Python \")\n",
    "                        #time.sleep(5))''')\n",
    "    time.sleep(1)\n",
    "   "
   ]
  },
  {
   "cell_type": "code",
   "execution_count": null,
   "metadata": {},
   "outputs": [],
   "source": [
    "import glob\n",
    "glob.glob('*.ipynb')\n"
   ]
  },
  {
   "cell_type": "code",
   "execution_count": null,
   "metadata": {},
   "outputs": [],
   "source": [
    "import glob\n",
    "for name in glob.glob('*[0-9]*.txt'):\n",
    "    print(name)"
   ]
  },
  {
   "cell_type": "code",
   "execution_count": null,
   "metadata": {},
   "outputs": [],
   "source": [
    "import glob\n",
    "for file in glob.iglob('**/*.py', recursive=True):\n",
    "     print(file)"
   ]
  },
  {
   "cell_type": "code",
   "execution_count": null,
   "metadata": {},
   "outputs": [],
   "source": [
    "import os \n",
    "for dirpath, dirnames, files in os.walk('.'):\n",
    "    print(f'Found directory: {dirpath}')\n",
    "    for file_name in files:\n",
    "        print(file_name)"
   ]
  },
  {
   "cell_type": "code",
   "execution_count": 15,
   "metadata": {},
   "outputs": [
    {
     "name": "stdout",
     "output_type": "stream",
     "text": [
      "Hello universe!\n"
     ]
    }
   ],
   "source": [
    "from tempfile import TemporaryFile\n",
    "\n",
    "# Create a temporary file and write some data to it\n",
    "fp = TemporaryFile('w+t')\n",
    "fp.write('Hello universe!')\n",
    "\n",
    "# Go back to the beginning and read data from file\n",
    "fp.seek(0)\n",
    "data = fp.read()\n",
    "print(data)\n",
    "\n",
    "# Close the file, after which it will be removed\n",
    "fp.close()"
   ]
  },
  {
   "cell_type": "code",
   "execution_count": 16,
   "metadata": {},
   "outputs": [],
   "source": [
    "with TemporaryFile('w+t') as fp:\n",
    "    fp.write('Hello universe!')\n",
    "    fp.seek(0)\n",
    "    fp.read()"
   ]
  },
  {
   "cell_type": "code",
   "execution_count": 18,
   "metadata": {},
   "outputs": [
    {
     "name": "stdout",
     "output_type": "stream",
     "text": [
      "Created temporary directory  C:\\Users\\32831\\AppData\\Local\\Temp\\tmp1mmoy195\n"
     ]
    }
   ],
   "source": [
    "import tempfile\n",
    "with tempfile.TemporaryDirectory() as tmpdir:\n",
    "     print('Created temporary directory ', tmpdir)\n",
    "     os.path.exists(tmpdir)\n"
   ]
  },
  {
   "cell_type": "code",
   "execution_count": 20,
   "metadata": {},
   "outputs": [
    {
     "data": {
      "text/plain": [
       "False"
      ]
     },
     "execution_count": 20,
     "metadata": {},
     "output_type": "execute_result"
    }
   ],
   "source": [
    "tmpdir\n",
    "#'/tmp/tmpoxbkrm6c'\n",
    "os.path.exists(tmpdir)\n",
    "#False"
   ]
  },
  {
   "cell_type": "code",
   "execution_count": 21,
   "metadata": {},
   "outputs": [],
   "source": [
    "import os\n",
    "\n",
    "data_file = 'C:\\\\Users\\\\32831\\\\Downloads\\\\t - Copy\\\\python-master\\\\2019-05-13_18-55-37.txt'\n",
    "os.remove(data_file)"
   ]
  },
  {
   "cell_type": "code",
   "execution_count": 22,
   "metadata": {},
   "outputs": [],
   "source": [
    "import os\n",
    "\n",
    "data_file = 'C:\\\\Users\\\\32831\\\\Downloads\\\\t - Copy\\\\python-master\\\\2019-05-13_18-55-36.txt'\n",
    "os.unlink(data_file)"
   ]
  },
  {
   "cell_type": "code",
   "execution_count": 24,
   "metadata": {},
   "outputs": [
    {
     "name": "stdout",
     "output_type": "stream",
     "text": [
      "Error: 2019-05-13_18-55-331.txt not a valid filename\n"
     ]
    }
   ],
   "source": [
    "import os\n",
    "\n",
    "data_file = '2019-05-13_18-55-331.txt'\n",
    "\n",
    "# If the file exists, delete it\n",
    "if os.path.isfile(data_file):\n",
    "    os.remove(data_file)\n",
    "else:\n",
    "    print(f'Error: {data_file} not a valid filename')"
   ]
  },
  {
   "cell_type": "code",
   "execution_count": 30,
   "metadata": {},
   "outputs": [
    {
     "name": "stdout",
     "output_type": "stream",
     "text": [
      "Error: 2019-05-13_18-55-331.txt : The system cannot find the file specified\n"
     ]
    }
   ],
   "source": [
    "import os\n",
    "\n",
    "data_file = '2019-05-13_18-55-331.txt'\n",
    "\n",
    "# Use exception handling\n",
    "try:\n",
    "    os.remove(data_file)\n",
    "except OSError as e:\n",
    "    print(f'Error: {data_file} : {e.strerror}')"
   ]
  },
  {
   "cell_type": "code",
   "execution_count": null,
   "metadata": {},
   "outputs": [],
   "source": [
    "import os\n",
    "\n",
    "trash_dir = 'my_documents/bad_dir'\n",
    "\n",
    "try:\n",
    "    os.rmdir(trash_dir)\n",
    "except OSError as e:\n",
    "    print(f'Error: {trash_dir} : {e.strerror}')"
   ]
  },
  {
   "cell_type": "code",
   "execution_count": null,
   "metadata": {},
   "outputs": [],
   "source": [
    "from pathlib import Path\n",
    "\n",
    "trash_dir = Path('my_documents/bad_dir')\n",
    "\n",
    "try:\n",
    "    trash_dir.rmdir()\n",
    "except OSError as e:\n",
    "    print(f'Error: {trash_dir} : {e.strerror}'"
   ]
  },
  {
   "cell_type": "code",
   "execution_count": null,
   "metadata": {},
   "outputs": [],
   "source": [
    "import shutil\n",
    "\n",
    "trash_dir = 'my_documents/bad_dir'\n",
    "\n",
    "try:\n",
    "    shutil.rmtree(trash_dir)\n",
    "except OSError as e:\n",
    "    print(f'Error: {trash_dir} : {e.strerror}')"
   ]
  },
  {
   "cell_type": "code",
   "execution_count": null,
   "metadata": {},
   "outputs": [],
   "source": [
    "import os\n",
    "\n",
    "for dirpath, dirnames, files in os.walk('.', topdown=False):\n",
    "    try:\n",
    "        os.rmdir(dirpath)\n",
    "    except OSError as ex:\n",
    "        pass"
   ]
  },
  {
   "cell_type": "code",
   "execution_count": null,
   "metadata": {},
   "outputs": [],
   "source": [
    "import shutil\n",
    "\n",
    "src = 'path/to/file.txt'\n",
    "dst = 'path/to/dest_dir'\n",
    "shutil.copy(src, dst)"
   ]
  },
  {
   "cell_type": "markdown",
   "metadata": {},
   "source": [
    "shutil.copy() is comparable to the cp command in UNIX based systems. shutil.copy(src, dst) will copy the file src to the location specified in dst. If dst is a file, the contents of that file are replaced with the contents of src. If dst is a directory, then src will be copied into that directory. shutil.copy() only copies the file’s contents and the file’s permissions. Other metadata like the file’s creation and modification times are not preserved."
   ]
  },
  {
   "cell_type": "code",
   "execution_count": null,
   "metadata": {},
   "outputs": [],
   "source": [
    "import shutil\n",
    "\n",
    "src = 'path/to/file.txt'\n",
    "dst = 'path/to/dest_dir'\n",
    "shutil.copy2(src, dst)"
   ]
  },
  {
   "cell_type": "code",
   "execution_count": null,
   "metadata": {},
   "outputs": [],
   "source": [
    "import shutil\n",
    "shutil.copytree('data_1', 'data1_backup')\n"
   ]
  },
  {
   "cell_type": "code",
   "execution_count": null,
   "metadata": {},
   "outputs": [],
   "source": [
    "import shutil\n",
    "shutil.move('dir_1/', 'backup/')\n"
   ]
  },
  {
   "cell_type": "code",
   "execution_count": null,
   "metadata": {},
   "outputs": [],
   "source": [
    "os.rename('first.zip', 'first_01.zip')"
   ]
  },
  {
   "cell_type": "code",
   "execution_count": null,
   "metadata": {},
   "outputs": [],
   "source": [
    "import zipfile\n",
    "\n",
    "with zipfile.ZipFile('data.zip', 'r') as zipobj:"
   ]
  },
  {
   "cell_type": "code",
   "execution_count": null,
   "metadata": {},
   "outputs": [],
   "source": [
    "import zipfile\n",
    "\n",
    "with zipfile.ZipFile('data.zip', 'r') as zipobj:\n",
    "    zipobj.namelist()"
   ]
  },
  {
   "cell_type": "code",
   "execution_count": null,
   "metadata": {},
   "outputs": [],
   "source": [
    "import zipfile\n",
    "\n",
    "with zipfile.ZipFile('data.zip', 'r') as zipobj:\n",
    "    bar_info = zipobj.getinfo('sub_dir/bar.py')\n",
    "    bar_info.file_size\n",
    "    \n",
    "bar_info.date_time\n",
    "#(2018, 10, 7, 23, 30, 10)\n",
    "bar_info.compress_size\n",
    "#2856\n",
    "bar_info.filename\n",
    "#'sub_dir/bar.py'"
   ]
  },
  {
   "cell_type": "code",
   "execution_count": null,
   "metadata": {},
   "outputs": [],
   "source": [
    "import zipfile\n",
    "import os\n",
    "\n",
    "os.listdir('.')\n",
    "#['data.zip']\n",
    "\n",
    "data_zip = zipfile.ZipFile('data.zip', 'r')\n",
    "\n",
    "#>>> # Extract a single file to current directory\n",
    "data_zip.extract('file1.py')\n",
    "#'/home/terra/test/dir1/zip_extract/file1.py'\n",
    "\n",
    "os.listdir('.')\n",
    "#['file1.py', 'data.zip']\n",
    "\n",
    "#>>> # Extract all files into a different directory\n",
    "data_zip.extractall(path='extract_dir/')\n",
    "\n",
    "os.listdir('.')\n",
    "#['file1.py', 'extract_dir', 'data.zip']\n",
    "\n",
    "os.listdir('extract_dir')\n",
    "#['file1.py', 'file3.py', 'file2.py', 'sub_dir']\n",
    "\n",
    "data_zip.close()"
   ]
  },
  {
   "cell_type": "code",
   "execution_count": null,
   "metadata": {},
   "outputs": [],
   "source": [
    "import zipfile\n",
    "with zipfile.ZipFile('secret.zip', 'r') as pwd_zip:\n",
    " # Extract from a password protected archive\n",
    "    pwd_zip.extractall(path='extract_dir', pwd='Quish3@o')"
   ]
  },
  {
   "cell_type": "code",
   "execution_count": null,
   "metadata": {},
   "outputs": [],
   "source": [
    "import zipfile\n",
    "\n",
    "file_list = ['file1.py', 'sub_dir/', 'sub_dir/bar.py', 'sub_dir/foo.py']\n",
    " with zipfile.ZipFile('new.zip', 'w') as new_zip:\n",
    "        for name in file_list:\n",
    "            new_zip.write(name)"
   ]
  },
  {
   "cell_type": "code",
   "execution_count": null,
   "metadata": {},
   "outputs": [],
   "source": [
    "# Open a ZipFile object in append mode\n",
    "with zipfile.ZipFile('new.zip', 'a') as new_zip:\n",
    "    new_zip.write('data.txt')\n",
    "    new_zip.write('latin.txt')"
   ]
  },
  {
   "cell_type": "code",
   "execution_count": null,
   "metadata": {},
   "outputs": [],
   "source": [
    "import tarfile\n",
    "\n",
    "with tarfile.open('example.tar', 'r') as tar_file:\n",
    "    print(tar_file.getnames())"
   ]
  },
  {
   "cell_type": "code",
   "execution_count": null,
   "metadata": {},
   "outputs": [],
   "source": [
    "import tarfile\n",
    "\n",
    "tar = tarfile.open('example.tar', mode='r')\n",
    "tar.getnames()\n",
    "#['CONTRIBUTING.rst', 'README.md', 'app.py']"
   ]
  },
  {
   "cell_type": "code",
   "execution_count": null,
   "metadata": {},
   "outputs": [],
   "source": [
    "for entry in tar.getmembers():\n",
    "    print(entry.name)\n",
    "    print(' Modified:', time.ctime(entry.mtime))\n",
    "    print(' Size    :', entry.size, 'bytes')\n",
    "    print()"
   ]
  },
  {
   "cell_type": "code",
   "execution_count": null,
   "metadata": {},
   "outputs": [],
   "source": [
    "tar.extract('README.md')\n",
    "os.listdir('.')\n",
    "#['README.md', 'example.tar']"
   ]
  },
  {
   "cell_type": "code",
   "execution_count": null,
   "metadata": {},
   "outputs": [],
   "source": [
    "tar.extractall(path=\"extracted/\")"
   ]
  },
  {
   "cell_type": "code",
   "execution_count": null,
   "metadata": {},
   "outputs": [],
   "source": [
    "f = tar.extractfile('app.py')\n",
    "f.read()\n",
    "tar.close()"
   ]
  },
  {
   "cell_type": "code",
   "execution_count": null,
   "metadata": {},
   "outputs": [],
   "source": [
    "import tarfile\n",
    "\n",
    "file_list = ['app.py', 'config.py', 'CONTRIBUTORS.md', 'tests.py']\n",
    "with tarfile.open('packages.tar', mode='w') as tar:\n",
    "    for file in file_list:\n",
    "        tar.add(file)\n",
    "        \n",
    "# Read the contents of the newly created archive\n",
    "with tarfile.open('package.tar', mode='r') as t:\n",
    "    for member in t.getmembers():\n",
    "        print(member.name)\n"
   ]
  },
  {
   "cell_type": "code",
   "execution_count": null,
   "metadata": {},
   "outputs": [],
   "source": [
    "with tarfile.open('package.tar', mode='a') as tar:\n",
    "    tar.add('foo.bar')\n",
    "\n",
    "with tarfile.open('package.tar', mode='r') as tar:\n",
    "    for member in tar.getmembers():\n",
    "        print(member.name)"
   ]
  },
  {
   "cell_type": "code",
   "execution_count": null,
   "metadata": {},
   "outputs": [],
   "source": [
    "files = ['app.py', 'config.py', 'tests.py']\n",
    "with tarfile.open('packages.tar.gz', mode='w:gz') as tar:\n",
    "    tar.add('app.py')\n",
    "    tar.add('config.py')\n",
    "    tar.add('tests.py')\n",
    "\n",
    "with tarfile.open('packages.tar.gz', mode='r:gz') as t:\n",
    "    for member in t.getmembers():\n",
    "        print(member.name)\n"
   ]
  },
  {
   "cell_type": "code",
   "execution_count": 20,
   "metadata": {},
   "outputs": [
    {
     "data": {
      "text/plain": [
       "usage(total=161061269504, used=81090498560, free=79970770944)"
      ]
     },
     "execution_count": 20,
     "metadata": {},
     "output_type": "execute_result"
    }
   ],
   "source": [
    "import shutil\n",
    "shutil.disk_usage(\".\")\n",
    "# shutil.make_archive(base_name, format, root_dir)\n",
    "#shutil.make_archive('mqtt', 'tar', 'mqtt/')"
   ]
  },
  {
   "cell_type": "code",
   "execution_count": 14,
   "metadata": {},
   "outputs": [],
   "source": [
    "shutil.unpack_archive('mqtt.tar', 'extract_dir/')"
   ]
  },
  {
   "cell_type": "code",
   "execution_count": null,
   "metadata": {},
   "outputs": [],
   "source": []
  }
 ],
 "metadata": {
  "kernelspec": {
   "display_name": "Python 3",
   "language": "python",
   "name": "python3"
  },
  "language_info": {
   "codemirror_mode": {
    "name": "ipython",
    "version": 3
   },
   "file_extension": ".py",
   "mimetype": "text/x-python",
   "name": "python",
   "nbconvert_exporter": "python",
   "pygments_lexer": "ipython3",
   "version": "3.6.5"
  }
 },
 "nbformat": 4,
 "nbformat_minor": 2
}
