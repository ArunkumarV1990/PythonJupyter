{
 "cells": [
  {
   "cell_type": "code",
   "execution_count": null,
   "metadata": {},
   "outputs": [],
   "source": [
    "import os\n",
    "import time\n",
    "import sys\n",
    "#import Adafruit_DHT as dht\n",
    "import paho.mqtt.client as mqtt\n",
    "import json\n",
    "import random\n",
    "\n",
    "THINGSBOARD_HOST = 'demo.thingsboard.io'\n",
    "ACCESS_TOKEN = 'eXsxr15SDZh512gMUlAL'\n",
    "\n",
    "# Data capture and upload interval in seconds. Less interval will eventually hang the DHT22.\n",
    "INTERVAL=2\n",
    "\n",
    "sensor_data = {'temperature': 0, 'humidity': 0}\n",
    "\n",
    "next_reading = time.time() \n",
    "\n",
    "client = mqtt.Client()\n",
    "\n",
    "# Set access token\n",
    "client.username_pw_set(ACCESS_TOKEN)\n",
    "\n",
    "# Connect to ThingsBoard using default MQTT port and 60 seconds keepalive interval\n",
    "client.connect(THINGSBOARD_HOST, 1883, 60)\n",
    "\n",
    "client.loop_start()\n",
    "\n",
    "try:\n",
    "    while True:\n",
    "        humidity,temperature = random.randint(40,85),random.randint(0,100)#.dht.read_retry(dht.DHT22, 4)\n",
    "        humidity = round(humidity, 2)\n",
    "        temperature = round(temperature, 2)\n",
    "        print(\"Temperature: {0}\\u00b0C, Humidity: {1}%\".format(temperature, humidity))\n",
    "        sensor_data['temperature'] = temperature\n",
    "        sensor_data['humidity'] = humidity\n",
    "        print(sensor_data)\n",
    "\n",
    "        # Sending humidity and temperature data to ThingsBoard\n",
    "        client.publish('v1/devices/me/telemetry', json.dumps(sensor_data), 1)\n",
    "\n",
    "        next_reading += INTERVAL\n",
    "        sleep_time = next_reading-time.time()\n",
    "        if sleep_time > 0:\n",
    "            time.sleep(sleep_time)\n",
    "except KeyboardInterrupt:\n",
    "    pass\n",
    "\n",
    "client.loop_stop()\n",
    "client.disconnect()\n"
   ]
  },
  {
   "cell_type": "code",
   "execution_count": null,
   "metadata": {},
   "outputs": [],
   "source": [
    "import requestsuests\n",
    "headers = {'content-type': 'application/json'}\n",
    "#r = requests.get('http://api.openweathermap.org/data/2.5/weather',params={'q': 'London,uk', 'APPID': '600ee2ea93eb9fed31b58b0ae8f74d43'})#?lat=35&lon=139&appid=600ee2ea93eb9fed31b58b0ae8f74d43')\n",
    "r = requests.get('http://api.openweathermap.org/data/2.5/weather?appid=600ee2ea93eb9fed31b58b0ae8f74d43&q=Bangalore,IN',headers = headers)\n",
    "k = json.loads(r.content)\n",
    "print(k)"
   ]
  },
  {
   "cell_type": "code",
   "execution_count": 10,
   "metadata": {},
   "outputs": [
    {
     "name": "stdout",
     "output_type": "stream",
     "text": [
      "{'ip': '1.39.185.133', 'hostname': '1-39-185-133.live.vodafone.in', 'city': 'Bengaluru', 'region': 'Karnataka', 'country': 'IN', 'loc': '12.9833,77.5833', 'postal': '560004', 'org': 'AS38266 Vodafone India Ltd.'}\n"
     ]
    }
   ],
   "source": [
    "import requests\n",
    "headers = {'content-type': 'application/json'}\n",
    "#r = requests.get('http://api.openweathermap.org/data/2.5/weather',params={'q': 'London,uk', 'APPID': '600ee2ea93eb9fed31b58b0ae8f74d43'})#?lat=35&lon=139&appid=600ee2ea93eb9fed31b58b0ae8f74d43')\n",
    "r = requests.get('http://ipinfo.io?token=0f46774be4c9cc',headers = headers)\n",
    "k = json.loads(r.content)\n",
    "print(k)\n"
   ]
  },
  {
   "cell_type": "code",
   "execution_count": 12,
   "metadata": {},
   "outputs": [
    {
     "name": "stdout",
     "output_type": "stream",
     "text": [
      "{'start_date': '08-05-2019', 'status': {'schdep': '06:20', 'actdep': '08:53', 'scharr': '06:10', 'has_arrived': True, 'has_departed': True, 'scharr_date': '09-05-2019', 'actarr': '08:39', 'actarr_date': '09-05-2019', 'latemin': 149}, 'train': {'days': [{'runs': 'Y', 'code': 'MON'}, {'runs': 'Y', 'code': 'TUE'}, {'runs': 'Y', 'code': 'WED'}, {'runs': 'Y', 'code': 'THU'}, {'runs': 'Y', 'code': 'FRI'}, {'runs': 'Y', 'code': 'SAT'}, {'runs': 'Y', 'code': 'SUN'}], 'number': '16591', 'classes': [{'available': 'Y', 'name': 'SECOND AC', 'code': '2A'}, {'available': 'Y', 'name': 'THIRD AC', 'code': '3A'}, {'available': 'N', 'name': 'FIRST CLASS', 'code': 'FC'}, {'available': 'N', 'name': 'SECOND SEATING', 'code': '2S'}, {'available': 'Y', 'name': 'SLEEPER CLASS', 'code': 'SL'}, {'available': 'Y', 'name': 'FIRST AC', 'code': '1A'}, {'available': 'N', 'name': '3rd AC ECONOMY', 'code': '3E'}, {'available': 'Y', 'name': 'AC CHAIR CAR', 'code': 'CC'}], 'name': 'UBL-MYS HAMPI EXPRESS'}, 'response_code': 200, 'station': {'lat': 12.9781291, 'lng': 77.5695295, 'name': 'KSR BENGALURU', 'code': 'SBC'}, 'position': 'Arrived at Mysore Jn at 11:41 09-May. 138 Kms. ahead of Ksr Bengaluru.', 'debit': 2}\n"
     ]
    }
   ],
   "source": [
    "#https://api.railwayapi.com/v2/live/train/<train-number>/station/<station-code>/date/<dd-mm-yyyy>/apikey/<apikey>/\n",
    "import requests\n",
    "headers = {'content-type': 'application/json'}\n",
    "r = requests.get('http://api.railwayapi.com/v2/live/train/16591/station/SBC/date/09-05-2019/apikey/797a3x718j/',headers = headers)\n",
    "k = json.loads(r.content)\n",
    "print(k)\n"
   ]
  },
  {
   "cell_type": "code",
   "execution_count": null,
   "metadata": {},
   "outputs": [],
   "source": [
    "import requests\n",
    "import os\n",
    "import time\n",
    "import sys\n",
    "import pprint\n",
    "import paho.mqtt.client as mqtt\n",
    "import json\n",
    "import random\n",
    "THINGSBOARD_HOST = 'demo.thingsboard.io'\n",
    "ACCESS_TOKEN = 'eXsxr15SDZh512gMUlAL'\n",
    "pp = pprint.PrettyPrinter(indent=4) \n",
    "\n",
    "\n",
    "# Data capture and upload interval in seconds. Less interval will eventually hang the DHT22.\n",
    "INTERVAL=2\n",
    "\n",
    "sensor_data = {'temperature': 0, 'humidity': 0}\n",
    "\n",
    "next_reading = time.time() \n",
    "\n",
    "client = mqtt.Client()\n",
    "\n",
    "# Set access token\n",
    "client.username_pw_set(ACCESS_TOKEN)\n",
    "\n",
    "# Connect to ThingsBoard using default MQTT port and 60 seconds keepalive interval\n",
    "client.connect(THINGSBOARD_HOST, 1883, 60)\n",
    "\n",
    "client.loop_start()\n",
    "\n",
    "def weather():\n",
    "    headers = {'content-type': 'application/json'}\n",
    "    #r = requests.get('http://api.openweathermap.org/data/2.5/weather',params={'q': 'London,uk', 'APPID': '600ee2ea93eb9fed31b58b0ae8f74d43'})#?lat=35&lon=139&appid=600ee2ea93eb9fed31b58b0ae8f74d43')\n",
    "    r = requests.get('http://api.openweathermap.org/data/2.5/weather?appid=600ee2ea93eb9fed31b58b0ae8f74d43&q=Bangalore,IN',headers = headers)\n",
    "    k = json.loads(r.content)\n",
    "    #print(k['weather'])\n",
    "    #print(k)\n",
    "    return k\n",
    "\n",
    "try:\n",
    "    while True:\n",
    "        sensor_data = weather()\n",
    "        # Sending weather data to ThingsBoard\n",
    "        client.publish('v1/devices/me/telemetry', json.dumps(sensor_data['main']), 1)\n",
    "        pp.pprint(sensor_data)\n",
    "\n",
    "        next_reading += INTERVAL\n",
    "        sleep_time = next_reading-time.time()\n",
    "        if sleep_time > 0:\n",
    "            time.sleep(sleep_time)\n",
    "except KeyboardInterrupt:\n",
    "    pass\n",
    "\n",
    "client.loop_stop()\n",
    "client.disconnect()\n"
   ]
  },
  {
   "cell_type": "code",
   "execution_count": null,
   "metadata": {},
   "outputs": [],
   "source": []
  }
 ],
 "metadata": {
  "kernelspec": {
   "display_name": "Python 3",
   "language": "python",
   "name": "python3"
  },
  "language_info": {
   "codemirror_mode": {
    "name": "ipython",
    "version": 3
   },
   "file_extension": ".py",
   "mimetype": "text/x-python",
   "name": "python",
   "nbconvert_exporter": "python",
   "pygments_lexer": "ipython3",
   "version": "3.6.5"
  }
 },
 "nbformat": 4,
 "nbformat_minor": 2
}
